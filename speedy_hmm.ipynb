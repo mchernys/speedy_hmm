{
 "cells": [
  {
   "cell_type": "markdown",
   "metadata": {},
   "source": [
    "# HMM code golf\n",
    "\n",
    "Hi! We've built an HMM for detecting [PCR chimeras](https://en.wikipedia.org/wiki/Chimera_(molecular_biology)). <br>\n",
    "We want this HMM to run very fast. <br>\n",
    "If you can speedup any of the two core HMM functions by >= 5x without changing the output, you get authorship on the paper. <br>\n",
    "\n",
    "I want to focus on the core algorithms, so run with 1 thread. However, if you can improve the threading that's also a plus.\n",
    "\n",
    "The main idea is that given a sequence query, we want to determine if it's more likely to observe the query from a database sequence plus a mutation rate, or by the combination of two database sequences plus mutation rate. The states are database sequences and the emission probabilities are affected by the mutation rates. The mutation rates can be either determined by an algorithm (baum welch approach) or given by the user (discrete bayesian approach). The core functions these two methods use are the same and the calls in the examples below use the baum welch approach.\n",
    "\n",
    "I would like two specific functions optimized: get_chimera_probabilities and get_recombination_events. The core algorithms behind these functions are in https://github.com/MurrellGroup/CHMMera/blob/main/src/algorithms.jl . This is where the optimization should happen.\n",
    "\n",
    "Thanks! <br>\n",
    "\\- Mark"
   ]
  },
  {
   "cell_type": "code",
   "execution_count": null,
   "metadata": {},
   "outputs": [],
   "source": [
    "# install packages\n",
    "using Pkg; Pkg.add(\"CSV\"); Pkg.add(\"DataFrames\"); Pkg.add(\"FASTX\"); Pkg.add(\"BenchmarkTools\"); Pkg.add(\"Revise\")"
   ]
  },
  {
   "cell_type": "code",
   "execution_count": null,
   "metadata": {},
   "outputs": [],
   "source": [
    "# grab HMM code\n",
    "run(`git clone git@github.com:MurrellGroup/CHMMera.git`)"
   ]
  },
  {
   "cell_type": "code",
   "execution_count": 1,
   "metadata": {},
   "outputs": [
    {
     "name": "stderr",
     "output_type": "stream",
     "text": [
      "\u001b[32m\u001b[1m  Activating\u001b[22m\u001b[39m project at `~/ben/speedy_hmm`\n",
      "\u001b[32m\u001b[1m   Resolving\u001b[22m\u001b[39m package versions...\n",
      "\u001b[32m\u001b[1m  No Changes\u001b[22m\u001b[39m to `~/ben/speedy_hmm/Project.toml`\n",
      "\u001b[32m\u001b[1m  No Changes\u001b[22m\u001b[39m to `~/ben/speedy_hmm/Manifest.toml`\n"
     ]
    }
   ],
   "source": [
    "# import stuff\n",
    "using CSV, DataFrames, FASTX, BenchmarkTools, Pkg\n",
    "include(\"./test.jl\")\n",
    "\n",
    "Pkg.activate(\".\")\n",
    "Pkg.develop(path=\"./CHMMera/\")\n",
    "using Revise\n",
    "using CHMMera"
   ]
  },
  {
   "cell_type": "code",
   "execution_count": 2,
   "metadata": {},
   "outputs": [
    {
     "data": {
      "text/plain": [
       "1"
      ]
     },
     "metadata": {},
     "output_type": "display_data"
    }
   ],
   "source": [
    "# when optimizing core algos, keep this at 1\n",
    "Threads.nthreads()"
   ]
  },
  {
   "cell_type": "markdown",
   "metadata": {},
   "source": [
    "## Run this cell to prepare the input data"
   ]
  },
  {
   "cell_type": "code",
   "execution_count": 3,
   "metadata": {},
   "outputs": [],
   "source": [
    "function read_fasta(filepath::String)\n",
    "    reader = FASTX.FASTA.Reader(open(filepath, \"r\"))\n",
    "    fasta_in = [record for record in reader]\n",
    "    close(reader)\n",
    "    return [String(FASTX.FASTA.description(rec)) for rec in fasta_in],\n",
    "    [uppercase(String(FASTX.FASTA.sequence(rec))) for rec in fasta_in]\n",
    "end\n",
    "\n",
    "#These functions take an IgBlast alignment, and thread it onto the reference alignment, transposing gaps\n",
    "#This currently discards insertions relative to the sequence that IgBlast says its closest to.  \n",
    "#If other references sequences had similar insertions, then this is discarded signal\n",
    "#I don't think this is going to make much practical difference though\n",
    "function thread_seq(v_sequence_alignment::AbstractString, \n",
    "                    v_germline_alignment::AbstractString, \n",
    "                    v_call::AbstractString, \n",
    "                    refseqs::Vector, \n",
    "                    degapped_refs::Vector, \n",
    "                    refname2ind::Dict, \n",
    "                    ali_length::Int):: String\n",
    "\n",
    "    dg = degap(v_germline_alignment)\n",
    "    gapped_full_ref = refseqs[refname2ind[v_call]]\n",
    "    # Because igblast gives a local alignment, sometimes missing ends:\n",
    "    matchrange = findfirst(dg, degapped_refs[refname2ind[v_call]])\n",
    "    gapped_full_ref = refseqs[refname2ind[v_call]]\n",
    "\n",
    "    keep_pos = collect(v_germline_alignment) .!= '-';\n",
    "    no_inserts = collect(v_sequence_alignment)[keep_pos];\n",
    "    no_inserts = vcat(['N' for i in 1:matchrange[1] - 1], no_inserts)#\n",
    "    threaded = fill('-',ali_length);\n",
    "    pos = 1\n",
    "     \n",
    "    for i in 1:ali_length\n",
    "        if pos <= length(no_inserts)\n",
    "            if gapped_full_ref[i] != '-'\n",
    "                threaded[i] = no_inserts[pos]\n",
    "                pos += 1\n",
    "            end\n",
    "        else\n",
    "            threaded[i] = 'N'\n",
    "        end\n",
    "    end\n",
    "    return join(threaded)\n",
    "end\n",
    "\n",
    "function thread_all(queries::Vector{String},q2refs::Vector{String},q2ref_names::Vector{String},refseqs::Vector{String},degapped_refs::Vector{String},refname2ind::Dict{String, Int64},ali_length::Int64)::Vector{String}\n",
    "    threaded = Vector{String}(undef, length(queries))\n",
    "    Threads.@threads for i in eachindex(queries)\n",
    "        threaded[i] = thread_seq(queries[i], q2refs[i], q2ref_names[i], refseqs, degapped_refs, refname2ind, ali_length)\n",
    "    end\n",
    "    return threaded\n",
    "end\n",
    "\n",
    "function degap(s::String)\n",
    "    return replace(s, \"-\" => \"\")\n",
    "end\n",
    "\n",
    "assignments = CSV.read(\"10k_IGH_sim.tsv\", DataFrame, delim = \"\\t\");\n",
    "refnames, refseqs = read_fasta(\"IGHV_sim.fasta\");\n",
    "refseqs = uppercase.(refseqs);\n",
    "# setting up the inputs for threading\n",
    "queries = uppercase.(Array(assignments[!,\"v_sequence_alignment\"]))\n",
    "q2refs = uppercase.(Array(assignments[!,\"v_germline_alignment\"]))\n",
    "q2ref_names = map(x->String(split(x, \",\")[1]), Array(assignments[!,\"v_call\"]))\n",
    "degapped_refs = degap.(refseqs);\n",
    "refname2ind = Dict(zip(refnames,collect(eachindex(refnames))))\n",
    "ali_length = maximum(length.(refseqs))\n",
    "@assert length.(q2refs) == length.(queries)\n",
    "threaded = thread_all(queries,q2refs,q2ref_names,refseqs,degapped_refs,refname2ind,ali_length);"
   ]
  },
  {
   "cell_type": "markdown",
   "metadata": {},
   "source": [
    "# Target 1: get_chimera_probabilities\n",
    "\n",
    "This is the core functionality of the tool. <br>\n",
    "It runs parameter estimation, then the forward algorithm to get the probability of chimerism"
   ]
  },
  {
   "cell_type": "code",
   "execution_count": 4,
   "metadata": {},
   "outputs": [
    {
     "data": {
      "text/plain": [
       "BenchmarkTools.Trial: 2 samples with 1 evaluation.\n",
       " Range \u001b[90m(\u001b[39m\u001b[36m\u001b[1mmin\u001b[22m\u001b[39m … \u001b[35mmax\u001b[39m\u001b[90m):  \u001b[39m\u001b[36m\u001b[1m3.970 s\u001b[22m\u001b[39m … \u001b[35m 3.981 s\u001b[39m  \u001b[90m┊\u001b[39m GC \u001b[90m(\u001b[39mmin … max\u001b[90m): \u001b[39m1.77% … 1.70%\n",
       " Time  \u001b[90m(\u001b[39m\u001b[34m\u001b[1mmedian\u001b[22m\u001b[39m\u001b[90m):     \u001b[39m\u001b[34m\u001b[1m3.975 s             \u001b[22m\u001b[39m\u001b[90m┊\u001b[39m GC \u001b[90m(\u001b[39mmedian\u001b[90m):    \u001b[39m1.73%\n",
       " Time  \u001b[90m(\u001b[39m\u001b[32m\u001b[1mmean\u001b[22m\u001b[39m ± \u001b[32mσ\u001b[39m\u001b[90m):   \u001b[39m\u001b[32m\u001b[1m3.975 s\u001b[22m\u001b[39m ± \u001b[32m7.766 ms\u001b[39m  \u001b[90m┊\u001b[39m GC \u001b[90m(\u001b[39mmean ± σ\u001b[90m):  \u001b[39m1.73% ± 0.05%\n",
       "\n",
       "  \u001b[34m█\u001b[39m\u001b[39m \u001b[39m \u001b[39m \u001b[39m \u001b[39m \u001b[39m \u001b[39m \u001b[39m \u001b[39m \u001b[39m \u001b[39m \u001b[39m \u001b[39m \u001b[39m \u001b[39m \u001b[39m \u001b[39m \u001b[39m \u001b[39m \u001b[39m \u001b[39m \u001b[39m \u001b[39m \u001b[39m \u001b[39m \u001b[39m \u001b[39m \u001b[32m \u001b[39m\u001b[39m \u001b[39m \u001b[39m \u001b[39m \u001b[39m \u001b[39m \u001b[39m \u001b[39m \u001b[39m \u001b[39m \u001b[39m \u001b[39m \u001b[39m \u001b[39m \u001b[39m \u001b[39m \u001b[39m \u001b[39m \u001b[39m \u001b[39m \u001b[39m \u001b[39m \u001b[39m \u001b[39m \u001b[39m \u001b[39m \u001b[39m█\u001b[39m \u001b[39m \n",
       "  \u001b[34m█\u001b[39m\u001b[39m▁\u001b[39m▁\u001b[39m▁\u001b[39m▁\u001b[39m▁\u001b[39m▁\u001b[39m▁\u001b[39m▁\u001b[39m▁\u001b[39m▁\u001b[39m▁\u001b[39m▁\u001b[39m▁\u001b[39m▁\u001b[39m▁\u001b[39m▁\u001b[39m▁\u001b[39m▁\u001b[39m▁\u001b[39m▁\u001b[39m▁\u001b[39m▁\u001b[39m▁\u001b[39m▁\u001b[39m▁\u001b[39m▁\u001b[39m▁\u001b[32m▁\u001b[39m\u001b[39m▁\u001b[39m▁\u001b[39m▁\u001b[39m▁\u001b[39m▁\u001b[39m▁\u001b[39m▁\u001b[39m▁\u001b[39m▁\u001b[39m▁\u001b[39m▁\u001b[39m▁\u001b[39m▁\u001b[39m▁\u001b[39m▁\u001b[39m▁\u001b[39m▁\u001b[39m▁\u001b[39m▁\u001b[39m▁\u001b[39m▁\u001b[39m▁\u001b[39m▁\u001b[39m▁\u001b[39m▁\u001b[39m▁\u001b[39m█\u001b[39m \u001b[39m▁\n",
       "  3.97 s\u001b[90m        Histogram: frequency by time\u001b[39m        3.98 s \u001b[0m\u001b[1m<\u001b[22m\n",
       "\n",
       " Memory estimate\u001b[90m: \u001b[39m\u001b[33m9.08 GiB\u001b[39m, allocs estimate\u001b[90m: \u001b[39m\u001b[33m2770181\u001b[39m."
      ]
     },
     "metadata": {},
     "output_type": "display_data"
    }
   ],
   "source": [
    "@benchmark CHMMera.get_chimera_probabilities(threaded, refseqs)"
   ]
  },
  {
   "cell_type": "markdown",
   "metadata": {},
   "source": [
    "# Target 2: get_recombination_events\n",
    "This function runs the viterbi algorithm to get additional information about the chimeras <br>\n",
    "It's slower than the first target"
   ]
  },
  {
   "cell_type": "code",
   "execution_count": 5,
   "metadata": {},
   "outputs": [
    {
     "data": {
      "text/plain": [
       "BenchmarkTools.Trial: 1 sample with 1 evaluation.\n",
       " Single result which took \u001b[34m9.130 s\u001b[39m (2.46% GC) to evaluate,\n",
       " with a memory estimate of \u001b[33m22.59 GiB\u001b[39m, over \u001b[33m13917331\u001b[39m allocations."
      ]
     },
     "metadata": {},
     "output_type": "display_data"
    }
   ],
   "source": [
    "@benchmark CHMMera.get_recombination_events(threaded, refseqs, true, [0.0], 0.05, 1/300, true, true)"
   ]
  },
  {
   "cell_type": "markdown",
   "metadata": {},
   "source": [
    "# Check outputs\n",
    "After you modify the functions, make sure you didn't change the outputs. <br>\n",
    "Run the two test functions below and make sure you get a PASS "
   ]
  },
  {
   "cell_type": "code",
   "execution_count": 6,
   "metadata": {},
   "outputs": [
    {
     "name": "stderr",
     "output_type": "stream",
     "text": [
      "┌ Info: PASS CHIMERA PROBS 👍\n",
      "└ @ Main /home/mchernys/ben/speedy_hmm/test.jl:5\n",
      "┌ Info: PASS CHIMERA RECOMBS 👍\n",
      "└ @ Main /home/mchernys/ben/speedy_hmm/test.jl:18\n"
     ]
    }
   ],
   "source": [
    "chimera_probs = CHMMera.get_chimera_probabilities(threaded, refseqs)\n",
    "test_chimera_probs(chimera_probs)\n",
    "chimera_recombs = CHMMera.get_recombination_events(threaded, refseqs, true, [0.0], 0.05, 1/300, true, true)\n",
    "test_chimera_recombs(chimera_recombs)"
   ]
  }
 ],
 "metadata": {
  "kernelspec": {
   "display_name": "Julia 1.10.5",
   "language": "julia",
   "name": "julia-1.10"
  },
  "language_info": {
   "file_extension": ".jl",
   "mimetype": "application/julia",
   "name": "julia",
   "version": "1.10.5"
  }
 },
 "nbformat": 4,
 "nbformat_minor": 2
}
